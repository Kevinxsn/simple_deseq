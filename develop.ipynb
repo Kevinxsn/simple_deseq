{
 "cells": [
  {
   "cell_type": "code",
   "execution_count": 1,
   "metadata": {},
   "outputs": [],
   "source": [
    "import pandas as pd\n",
    "import numpy as np"
   ]
  },
  {
   "cell_type": "code",
   "execution_count": 2,
   "metadata": {},
   "outputs": [],
   "source": [
    "df1 = pd.read_table('benchmark_data/Chow_Rep1.genes.results')\n",
    "df2 = pd.read_table('benchmark_data/Chow_Rep2.genes.results')\n",
    "df3 = pd.read_table('benchmark_data/Chow_Rep3.genes.results')\n",
    "df4 = pd.read_table('benchmark_data/HFD_Rep1.genes.results')\n",
    "df5 = pd.read_table('benchmark_data/HFD_Rep2.genes.results')\n",
    "df6 = pd.read_table('benchmark_data/HFD_Rep3.genes.results')"
   ]
  },
  {
   "cell_type": "code",
   "execution_count": 3,
   "metadata": {},
   "outputs": [],
   "source": [
    "import pandas as pd\n",
    "\n",
    "def merge_dataframes_on_column(dfs, join_column, columns_to_keep, column_name):\n",
    "    \"\"\"\n",
    "    Merge multiple DataFrames on a specified join column and keep only specified columns.\n",
    "\n",
    "    Args:\n",
    "    dfs (list of pd.DataFrame): List of DataFrames to merge.\n",
    "    join_column (str): Name of the column to join on.\n",
    "    columns_to_keep (list of list of str): List of lists, where each sublist contains the names of the columns\n",
    "                                           to keep from the corresponding DataFrame.\n",
    "\n",
    "    Returns:\n",
    "    pd.DataFrame: A DataFrame resulting from merging all input DataFrames on the join_column and \n",
    "                  keeping only the specified columns from each.\n",
    "    \"\"\"\n",
    "    # Ensure columns_to_keep is valid\n",
    "    if len(dfs) != len(columns_to_keep):\n",
    "        raise ValueError(\"Each DataFrame must have a corresponding list of columns to keep.\")\n",
    "\n",
    "    # Reduce the dataframes to only the columns to keep and the join column\n",
    "    reduced_dfs = [\n",
    "        df[[join_column] + columns] for df, columns in zip(dfs, columns_to_keep)\n",
    "        if join_column in df.columns and all(col in df.columns for col in columns)\n",
    "    ]\n",
    "    \n",
    "    # Merge all dataframes on the join column\n",
    "    merged_df = reduced_dfs[0]\n",
    "    for df in reduced_dfs[1:]:\n",
    "        merged_df = pd.merge(merged_df, df, on=join_column, how='inner')\n",
    "    merged_df.columns = [merged_df.columns[0]] + column_name\n",
    "    \n",
    "    return merged_df\n",
    "\n",
    "# Example usage:\n",
    "# Assuming you have three DataFrames: df1, df2, df3\n",
    "# You want to merge them on 'id' column and keep certain columns from each DataFrame:\n",
    "# result_df = merge_dataframes_on_column([df1, df2, df3], 'id', [['name', 'age'], ['address'], ['salary']])\n"
   ]
  },
  {
   "cell_type": "code",
   "execution_count": 4,
   "metadata": {},
   "outputs": [],
   "source": [
    "df_list = [df1, df2, df3, df4, df5, df6]"
   ]
  },
  {
   "cell_type": "code",
   "execution_count": 5,
   "metadata": {},
   "outputs": [],
   "source": [
    "column_name = ['Chow_Rep1', 'Chow_Rep1', 'Chow_Rep1', 'HFD_Rep1', 'HFD_Rep1', 'HFD_Rep1']"
   ]
  },
  {
   "cell_type": "code",
   "execution_count": 6,
   "metadata": {},
   "outputs": [
    {
     "name": "stderr",
     "output_type": "stream",
     "text": [
      "/var/folders/rn/8krws_b93vv3ckfsgwjhq5z80000gn/T/ipykernel_70273/514212027.py:30: FutureWarning: Passing 'suffixes' which cause duplicate columns {'TPM_x'} in the result is deprecated and will raise a MergeError in a future version.\n",
      "  merged_df = pd.merge(merged_df, df, on=join_column, how='inner')\n"
     ]
    },
    {
     "data": {
      "text/html": [
       "<div>\n",
       "<style scoped>\n",
       "    .dataframe tbody tr th:only-of-type {\n",
       "        vertical-align: middle;\n",
       "    }\n",
       "\n",
       "    .dataframe tbody tr th {\n",
       "        vertical-align: top;\n",
       "    }\n",
       "\n",
       "    .dataframe thead th {\n",
       "        text-align: right;\n",
       "    }\n",
       "</style>\n",
       "<table border=\"1\" class=\"dataframe\">\n",
       "  <thead>\n",
       "    <tr style=\"text-align: right;\">\n",
       "      <th></th>\n",
       "      <th>gene_id</th>\n",
       "      <th>Chow_Rep1</th>\n",
       "      <th>Chow_Rep1</th>\n",
       "      <th>Chow_Rep1</th>\n",
       "      <th>HFD_Rep1</th>\n",
       "      <th>HFD_Rep1</th>\n",
       "      <th>HFD_Rep1</th>\n",
       "    </tr>\n",
       "  </thead>\n",
       "  <tbody>\n",
       "    <tr>\n",
       "      <th>0</th>\n",
       "      <td>ENSMUSG00000000001</td>\n",
       "      <td>36.15</td>\n",
       "      <td>34.04</td>\n",
       "      <td>38.34</td>\n",
       "      <td>31.80</td>\n",
       "      <td>43.21</td>\n",
       "      <td>37.89</td>\n",
       "    </tr>\n",
       "    <tr>\n",
       "      <th>1</th>\n",
       "      <td>ENSMUSG00000000003</td>\n",
       "      <td>0.00</td>\n",
       "      <td>0.00</td>\n",
       "      <td>0.00</td>\n",
       "      <td>0.00</td>\n",
       "      <td>0.00</td>\n",
       "      <td>0.00</td>\n",
       "    </tr>\n",
       "    <tr>\n",
       "      <th>2</th>\n",
       "      <td>ENSMUSG00000000028</td>\n",
       "      <td>0.69</td>\n",
       "      <td>2.01</td>\n",
       "      <td>0.55</td>\n",
       "      <td>0.88</td>\n",
       "      <td>0.64</td>\n",
       "      <td>0.92</td>\n",
       "    </tr>\n",
       "    <tr>\n",
       "      <th>3</th>\n",
       "      <td>ENSMUSG00000000031</td>\n",
       "      <td>0.00</td>\n",
       "      <td>0.23</td>\n",
       "      <td>0.00</td>\n",
       "      <td>0.13</td>\n",
       "      <td>0.12</td>\n",
       "      <td>0.19</td>\n",
       "    </tr>\n",
       "    <tr>\n",
       "      <th>4</th>\n",
       "      <td>ENSMUSG00000000037</td>\n",
       "      <td>0.00</td>\n",
       "      <td>0.02</td>\n",
       "      <td>0.00</td>\n",
       "      <td>0.00</td>\n",
       "      <td>0.06</td>\n",
       "      <td>0.00</td>\n",
       "    </tr>\n",
       "    <tr>\n",
       "      <th>...</th>\n",
       "      <td>...</td>\n",
       "      <td>...</td>\n",
       "      <td>...</td>\n",
       "      <td>...</td>\n",
       "      <td>...</td>\n",
       "      <td>...</td>\n",
       "      <td>...</td>\n",
       "    </tr>\n",
       "    <tr>\n",
       "      <th>39012</th>\n",
       "      <td>ENSMUSG00000099329</td>\n",
       "      <td>0.00</td>\n",
       "      <td>2.76</td>\n",
       "      <td>0.36</td>\n",
       "      <td>0.00</td>\n",
       "      <td>2.72</td>\n",
       "      <td>1.33</td>\n",
       "    </tr>\n",
       "    <tr>\n",
       "      <th>39013</th>\n",
       "      <td>ENSMUSG00000099330</td>\n",
       "      <td>0.00</td>\n",
       "      <td>0.00</td>\n",
       "      <td>0.00</td>\n",
       "      <td>0.00</td>\n",
       "      <td>0.00</td>\n",
       "      <td>0.00</td>\n",
       "    </tr>\n",
       "    <tr>\n",
       "      <th>39014</th>\n",
       "      <td>ENSMUSG00000099331</td>\n",
       "      <td>0.00</td>\n",
       "      <td>0.00</td>\n",
       "      <td>0.00</td>\n",
       "      <td>0.00</td>\n",
       "      <td>0.00</td>\n",
       "      <td>0.00</td>\n",
       "    </tr>\n",
       "    <tr>\n",
       "      <th>39015</th>\n",
       "      <td>ENSMUSG00000099332</td>\n",
       "      <td>0.00</td>\n",
       "      <td>0.00</td>\n",
       "      <td>0.00</td>\n",
       "      <td>0.00</td>\n",
       "      <td>0.00</td>\n",
       "      <td>0.00</td>\n",
       "    </tr>\n",
       "    <tr>\n",
       "      <th>39016</th>\n",
       "      <td>ENSMUSG00000099334</td>\n",
       "      <td>0.00</td>\n",
       "      <td>0.00</td>\n",
       "      <td>0.00</td>\n",
       "      <td>0.00</td>\n",
       "      <td>0.00</td>\n",
       "      <td>0.00</td>\n",
       "    </tr>\n",
       "  </tbody>\n",
       "</table>\n",
       "<p>39017 rows × 7 columns</p>\n",
       "</div>"
      ],
      "text/plain": [
       "                  gene_id  Chow_Rep1  Chow_Rep1  Chow_Rep1  HFD_Rep1  \\\n",
       "0      ENSMUSG00000000001      36.15      34.04      38.34     31.80   \n",
       "1      ENSMUSG00000000003       0.00       0.00       0.00      0.00   \n",
       "2      ENSMUSG00000000028       0.69       2.01       0.55      0.88   \n",
       "3      ENSMUSG00000000031       0.00       0.23       0.00      0.13   \n",
       "4      ENSMUSG00000000037       0.00       0.02       0.00      0.00   \n",
       "...                   ...        ...        ...        ...       ...   \n",
       "39012  ENSMUSG00000099329       0.00       2.76       0.36      0.00   \n",
       "39013  ENSMUSG00000099330       0.00       0.00       0.00      0.00   \n",
       "39014  ENSMUSG00000099331       0.00       0.00       0.00      0.00   \n",
       "39015  ENSMUSG00000099332       0.00       0.00       0.00      0.00   \n",
       "39016  ENSMUSG00000099334       0.00       0.00       0.00      0.00   \n",
       "\n",
       "       HFD_Rep1  HFD_Rep1  \n",
       "0         43.21     37.89  \n",
       "1          0.00      0.00  \n",
       "2          0.64      0.92  \n",
       "3          0.12      0.19  \n",
       "4          0.06      0.00  \n",
       "...         ...       ...  \n",
       "39012      2.72      1.33  \n",
       "39013      0.00      0.00  \n",
       "39014      0.00      0.00  \n",
       "39015      0.00      0.00  \n",
       "39016      0.00      0.00  \n",
       "\n",
       "[39017 rows x 7 columns]"
      ]
     },
     "execution_count": 6,
     "metadata": {},
     "output_type": "execute_result"
    }
   ],
   "source": [
    "merge_dataframes_on_column(df_list, 'gene_id', [['TPM'] for _ in df_list], column_name)"
   ]
  },
  {
   "cell_type": "code",
   "execution_count": 7,
   "metadata": {},
   "outputs": [],
   "source": [
    "import simple_teximport"
   ]
  },
  {
   "cell_type": "code",
   "execution_count": 8,
   "metadata": {},
   "outputs": [],
   "source": [
    "file_list = ['benchmark_data/Chow_Rep1.genes.results', 'benchmark_data/Chow_Rep2.genes.results', 'benchmark_data/Chow_Rep3.genes.results', 'benchmark_data/HFD_Rep1.genes.results', 'benchmark_data/HFD_Rep2.genes.results', 'benchmark_data/HFD_Rep3.genes.results']"
   ]
  },
  {
   "cell_type": "code",
   "execution_count": 11,
   "metadata": {},
   "outputs": [
    {
     "name": "stderr",
     "output_type": "stream",
     "text": [
      "/Users/kevinmbp/Documents/GitHub/simple_deseq/simple_teximport.py:51: FutureWarning: Passing 'suffixes' which cause duplicate columns {'TPM_x'} in the result is deprecated and will raise a MergeError in a future version.\n",
      "  merged_df = pd.merge(merged_df, df, on=join_column, how='inner')\n",
      "/Users/kevinmbp/Documents/GitHub/simple_deseq/simple_teximport.py:51: FutureWarning: Passing 'suffixes' which cause duplicate columns {'expected_count_x'} in the result is deprecated and will raise a MergeError in a future version.\n",
      "  merged_df = pd.merge(merged_df, df, on=join_column, how='inner')\n",
      "/Users/kevinmbp/Documents/GitHub/simple_deseq/simple_teximport.py:51: FutureWarning: Passing 'suffixes' which cause duplicate columns {'effective_length_x'} in the result is deprecated and will raise a MergeError in a future version.\n",
      "  merged_df = pd.merge(merged_df, df, on=join_column, how='inner')\n"
     ]
    }
   ],
   "source": [
    "txi = simple_teximport.simple_texi(file_list, column_name)"
   ]
  },
  {
   "cell_type": "code",
   "execution_count": 12,
   "metadata": {},
   "outputs": [
    {
     "name": "stdout",
     "output_type": "stream",
     "text": [
      "abundance information: [(39017, 7), Index(['gene_id', 'Chow_Rep1', 'Chow_Rep1', 'Chow_Rep1', 'HFD_Rep1',\n",
      "       'HFD_Rep1', 'HFD_Rep1'],\n",
      "      dtype='object')] \n",
      " count information: [(39017, 7), Index(['gene_id', 'Chow_Rep1', 'Chow_Rep1', 'Chow_Rep1', 'HFD_Rep1',\n",
      "       'HFD_Rep1', 'HFD_Rep1'],\n",
      "      dtype='object')] \n",
      " length information: [(39017, 7), Index(['gene_id', 'Chow_Rep1', 'Chow_Rep1', 'Chow_Rep1', 'HFD_Rep1',\n",
      "       'HFD_Rep1', 'HFD_Rep1'],\n",
      "      dtype='object')]\n"
     ]
    }
   ],
   "source": [
    "print(txi)"
   ]
  },
  {
   "cell_type": "code",
   "execution_count": null,
   "metadata": {},
   "outputs": [],
   "source": []
  }
 ],
 "metadata": {
  "kernelspec": {
   "display_name": "Python 3",
   "language": "python",
   "name": "python3"
  },
  "language_info": {
   "codemirror_mode": {
    "name": "ipython",
    "version": 3
   },
   "file_extension": ".py",
   "mimetype": "text/x-python",
   "name": "python",
   "nbconvert_exporter": "python",
   "pygments_lexer": "ipython3",
   "version": "3.8.16"
  }
 },
 "nbformat": 4,
 "nbformat_minor": 2
}
